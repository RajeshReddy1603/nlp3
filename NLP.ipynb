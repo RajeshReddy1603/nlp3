{
 "cells": [
  {
   "cell_type": "code",
   "execution_count": 2,
   "id": "18fa23f8-0619-491a-af6c-ed083205e45e",
   "metadata": {},
   "outputs": [
    {
     "name": "stdout",
     "output_type": "stream",
     "text": [
      "Requirement already satisfied: nltk in c:\\users\\rajes\\appdata\\local\\programs\\python\\python311\\lib\\site-packages (3.9.1)\n",
      "Requirement already satisfied: click in c:\\users\\rajes\\appdata\\local\\programs\\python\\python311\\lib\\site-packages (from nltk) (8.2.0)\n",
      "Requirement already satisfied: joblib in c:\\users\\rajes\\appdata\\local\\programs\\python\\python311\\lib\\site-packages (from nltk) (1.5.0)\n",
      "Requirement already satisfied: regex>=2021.8.3 in c:\\users\\rajes\\appdata\\local\\programs\\python\\python311\\lib\\site-packages (from nltk) (2024.11.6)\n",
      "Requirement already satisfied: tqdm in c:\\users\\rajes\\appdata\\local\\programs\\python\\python311\\lib\\site-packages (from nltk) (4.67.1)\n",
      "Requirement already satisfied: colorama in c:\\users\\rajes\\appdata\\local\\programs\\python\\python311\\lib\\site-packages (from click->nltk) (0.4.6)\n"
     ]
    }
   ],
   "source": [
    "!pip install nltk"
   ]
  },
  {
   "cell_type": "code",
   "execution_count": 5,
   "id": "a8cf7ee9-20f4-4b74-b628-7e90943eb4e6",
   "metadata": {},
   "outputs": [
    {
     "name": "stderr",
     "output_type": "stream",
     "text": [
      "[nltk_data] Downloading package punkt_tab to\n",
      "[nltk_data]     C:\\Users\\rajes\\AppData\\Roaming\\nltk_data...\n",
      "[nltk_data]   Unzipping tokenizers\\punkt_tab.zip.\n"
     ]
    },
    {
     "data": {
      "text/plain": [
       "True"
      ]
     },
     "execution_count": 5,
     "metadata": {},
     "output_type": "execute_result"
    }
   ],
   "source": [
    "import nltk\n",
    "nltk.download('punkt_tab')"
   ]
  },
  {
   "cell_type": "code",
   "execution_count": 6,
   "id": "154ff3b1-349c-4ab8-96d6-6220fadc9c4e",
   "metadata": {},
   "outputs": [
    {
     "data": {
      "text/plain": [
       "['this is rajesh.this is maddi.MR.rajesh.hello good evening']"
      ]
     },
     "execution_count": 6,
     "metadata": {},
     "output_type": "execute_result"
    }
   ],
   "source": [
    "from nltk.tokenize import sent_tokenize\n",
    "mystring=\"this is rajesh.this is maddi.MR.rajesh.hello good evening\"\n",
    "obj=sent_tokenize(mystring)\n",
    "obj"
   ]
  },
  {
   "cell_type": "code",
   "execution_count": 7,
   "id": "1d9fabe9-5049-4634-b3c3-f46ba547c726",
   "metadata": {},
   "outputs": [
    {
     "data": {
      "text/plain": [
       "['this is rajesh', 'this is maddi', 'MR', 'rajesh', 'hello good evening']"
      ]
     },
     "execution_count": 7,
     "metadata": {},
     "output_type": "execute_result"
    }
   ],
   "source": [
    "result=mystring.split(\".\")\n",
    "result"
   ]
  },
  {
   "cell_type": "code",
   "execution_count": 8,
   "id": "8e82baf9-1087-403e-b733-b2406dfbba94",
   "metadata": {},
   "outputs": [
    {
     "data": {
      "text/plain": [
       "['this is rajesh.this is maddi.MR.rajesh.hello good evening']"
      ]
     },
     "execution_count": 8,
     "metadata": {},
     "output_type": "execute_result"
    }
   ],
   "source": [
    "from nltk.tokenize import sent_tokenize\n",
    "mystring=\"this is rajesh.this is maddi.MR.rajesh.hello good evening\"\n",
    "final=sent_tokenize(mystring)\n",
    "final"
   ]
  },
  {
   "cell_type": "code",
   "execution_count": 9,
   "id": "9c946884-b729-4e1c-8401-882abac73ddf",
   "metadata": {},
   "outputs": [
    {
     "data": {
      "text/plain": [
       "['helloworeld@.todayn', 'is', 'wednesday.my', 'name', 'is', 'rajesh!']"
      ]
     },
     "execution_count": 9,
     "metadata": {},
     "output_type": "execute_result"
    }
   ],
   "source": [
    "from nltk.tokenize import word_tokenize\n",
    "mystring=\"helloworeld@.todayn is wednesday.my name is rajesh!\"\n",
    "final=mystring.split()\n",
    "final"
   ]
  },
  {
   "cell_type": "code",
   "execution_count": 10,
   "id": "25310e20-8adf-4ea8-af79-11c549b01147",
   "metadata": {},
   "outputs": [
    {
     "data": {
      "text/plain": [
       "['helloworeld',\n",
       " '@',\n",
       " '.todayn',\n",
       " 'is',\n",
       " 'wednesday.my',\n",
       " 'name',\n",
       " 'is',\n",
       " 'rajesh',\n",
       " '!']"
      ]
     },
     "execution_count": 10,
     "metadata": {},
     "output_type": "execute_result"
    }
   ],
   "source": [
    "obj=word_tokenize(mystring)\n",
    "obj"
   ]
  },
  {
   "cell_type": "code",
   "execution_count": 11,
   "id": "826cb2de-c9f0-43ec-ae0f-e9101a3bd49f",
   "metadata": {},
   "outputs": [
    {
     "data": {
      "text/plain": [
       "['these',\n",
       " 'is',\n",
       " 'world',\n",
       " 'my',\n",
       " 'name',\n",
       " 'is',\n",
       " 'rajesh',\n",
       " 'hello',\n",
       " 'good',\n",
       " 'evening']"
      ]
     },
     "execution_count": 11,
     "metadata": {},
     "output_type": "execute_result"
    }
   ],
   "source": [
    "from nltk.tokenize import regexp_tokenize\n",
    "mystring=\"these is world.my name is rajesh.hello good evening@\"\n",
    "final=regexp_tokenize(mystring,pattern=\"\\w+\")\n",
    "final"
   ]
  },
  {
   "cell_type": "code",
   "execution_count": 15,
   "id": "bd87bb4e-08d5-4c0a-9fd3-dc21d91bfb53",
   "metadata": {},
   "outputs": [
    {
     "data": {
      "text/plain": [
       "['hello', 'good', 'evening', 'my', 'name', 'is', 'rajesh', 'hello', 'world']"
      ]
     },
     "execution_count": 15,
     "metadata": {},
     "output_type": "execute_result"
    }
   ],
   "source": [
    "from nltk.tokenize import regexp_tokenize\n",
    "mystring=\"hello good evening.my name is rajesh.hello world@!%\"\n",
    "final=regexp_tokenize(mystring,pattern=\"\\w+\")\n",
    "final"
   ]
  },
  {
   "cell_type": "code",
   "execution_count": 16,
   "id": "b85e52ee-9740-43b2-bd3f-875d6fdc7883",
   "metadata": {},
   "outputs": [
    {
     "data": {
      "text/plain": [
       "'cut'"
      ]
     },
     "execution_count": 16,
     "metadata": {},
     "output_type": "execute_result"
    }
   ],
   "source": [
    "from nltk.stem import PorterStemmer\n",
    "porter=PorterStemmer()\n",
    "porter.stem(\"cutting\")"
   ]
  },
  {
   "cell_type": "code",
   "execution_count": 19,
   "id": "59a9d386-bed6-4220-98ec-ef6fd275994a",
   "metadata": {},
   "outputs": [
    {
     "name": "stdout",
     "output_type": "stream",
     "text": [
      "wait\n",
      "hello\n",
      "world\n",
      "today\n",
      "tomorrow\n"
     ]
    }
   ],
   "source": [
    "from nltk.stem import PorterStemmer\n",
    "x=[\"wait\",\"hello\",\"world\",\"today\",\"tomorrow\"]\n",
    "obj=PorterStemmer()\n",
    "for w in x:\n",
    "    final=obj.stem(w)\n",
    "    print(final)"
   ]
  },
  {
   "cell_type": "code",
   "execution_count": 24,
   "id": "93835e2f-3865-4f3b-8b5a-518fb9b8a82e",
   "metadata": {},
   "outputs": [
    {
     "name": "stdout",
     "output_type": "stream",
     "text": [
      "hello\n",
      "good\n",
      "even\n"
     ]
    }
   ],
   "source": [
    "import nltk\n",
    "from nltk.stem import PorterStemmer\n",
    "text=\"hello good evening\"\n",
    "obj=PorterStemmer()\n",
    "token=nltk.word_tokenize(text)\n",
    "for w in  token:\n",
    "   final=obj.stem(w)\n",
    "   print(final)"
   ]
  },
  {
   "cell_type": "code",
   "execution_count": 30,
   "id": "12508f6a-cf30-4fc4-a8b0-07ce87c51fb7",
   "metadata": {},
   "outputs": [
    {
     "name": "stderr",
     "output_type": "stream",
     "text": [
      "[nltk_data] Downloading package wordnet to\n",
      "[nltk_data]     C:\\Users\\rajes\\AppData\\Roaming\\nltk_data...\n"
     ]
    },
    {
     "data": {
      "text/plain": [
       "True"
      ]
     },
     "execution_count": 30,
     "metadata": {},
     "output_type": "execute_result"
    }
   ],
   "source": [
    "import nltk\n",
    "nltk.download('wordnet')\n",
    "  "
   ]
  },
  {
   "cell_type": "code",
   "execution_count": 41,
   "id": "eba2a8d7-5281-43fb-8fcd-84fad31a1140",
   "metadata": {},
   "outputs": [
    {
     "name": "stdout",
     "output_type": "stream",
     "text": [
      "s s\n",
      "t t\n",
      "u u\n",
      "d d\n",
      "i i\n",
      "e e\n",
      "s s\n",
      "   \n",
      "s s\n",
      "t t\n",
      "u u\n",
      "d d\n",
      "y y\n",
      "i i\n",
      "n n\n",
      "g g\n",
      "   \n",
      "c c\n",
      "r r\n",
      "i i\n",
      "e e\n",
      "s s\n",
      "   \n",
      "c c\n",
      "r r\n",
      "y y\n"
     ]
    }
   ],
   "source": [
    "from nltk.stem import WordNetLemmatizer\n",
    "x=\"studies studying cries cry\"\n",
    "obj=WordNetLemmatizer()\n",
    "for word in x:\n",
    "    print(word,obj.lemmatize(word))"
   ]
  },
  {
   "cell_type": "code",
   "execution_count": 42,
   "id": "b1908da3-c647-4732-81b7-3ba7e87f0146",
   "metadata": {},
   "outputs": [
    {
     "data": {
      "text/plain": [
       "['hellogoodevening.mr.rajesh.helloworld']"
      ]
     },
     "execution_count": 42,
     "metadata": {},
     "output_type": "execute_result"
    }
   ],
   "source": [
    "from nltk.tokenize import sent_tokenize\n",
    "mystring=\"hellogoodevening.mr.rajesh.helloworld\"\n",
    "final=sent_tokenize(mystring)\n",
    "final"
   ]
  },
  {
   "cell_type": "code",
   "execution_count": 43,
   "id": "e42e5d2c-e927-4e42-b156-62f85950daec",
   "metadata": {},
   "outputs": [
    {
     "data": {
      "text/plain": [
       "['hellogoodevening', '@', '.today', 'is', 'wednesday', '!']"
      ]
     },
     "execution_count": 43,
     "metadata": {},
     "output_type": "execute_result"
    }
   ],
   "source": [
    "from nltk.tokenize import word_tokenize\n",
    "mystring=\"hellogoodevening@.today is wednesday!\"\n",
    "final=word_tokenize(mystring)\n",
    "final"
   ]
  },
  {
   "cell_type": "code",
   "execution_count": 47,
   "id": "3a9048d9-6231-48cb-8864-2142bb33c043",
   "metadata": {},
   "outputs": [
    {
     "data": {
      "text/plain": [
       "['hellogoodmorning', 'today', 'is', 'wednesday']"
      ]
     },
     "execution_count": 47,
     "metadata": {},
     "output_type": "execute_result"
    }
   ],
   "source": [
    "from nltk.tokenize import regexp_tokenize\n",
    "mystring=\"hellogoodmorning@.today is wednesday!\"\n",
    "final=regexp_tokenize(mystring,pattern=\"\\w+\")\n",
    "final"
   ]
  },
  {
   "cell_type": "code",
   "execution_count": 52,
   "id": "99fc7cde-e8b6-4067-886a-67ba8a7623f2",
   "metadata": {},
   "outputs": [
    {
     "data": {
      "text/plain": [
       "['hellogoodmorning', 'today', 'is', 'wednesday']"
      ]
     },
     "execution_count": 52,
     "metadata": {},
     "output_type": "execute_result"
    }
   ],
   "source": [
    "from nltk.tokenize import regexp_tokenize\n",
    "mystring=\"hellogoodmorning@.today is wednesday!\"\n",
    "final=regexp_tokenize(mystring,pattern=\"\\w+\")\n",
    "final"
   ]
  },
  {
   "cell_type": "code",
   "execution_count": 56,
   "id": "995809e0-8228-4985-8266-a83a595bb612",
   "metadata": {},
   "outputs": [
    {
     "name": "stdout",
     "output_type": "stream",
     "text": [
      "waitedpeopl\n"
     ]
    }
   ],
   "source": [
    "from nltk.stem import PorterStemmer\n",
    "import nltk\n",
    "x=[\"waited\" \"people\"]\n",
    "obj=PorterStemmer()\n",
    "for w in x:\n",
    "    final=obj.stem(w)\n",
    "    print(final)"
   ]
  },
  {
   "cell_type": "code",
   "execution_count": 59,
   "id": "7f214094-c947-406a-ac85-2639190b1bfa",
   "metadata": {},
   "outputs": [
    {
     "name": "stdout",
     "output_type": "stream",
     "text": [
      "areyouokchintu\n"
     ]
    }
   ],
   "source": [
    "import nltk\n",
    "from nltk.stem import WordNetLemmatizer\n",
    "x=[\"are\" \"you\" \"ok\" \"chintu\"]\n",
    "obj=WordNetLemmatizer()\n",
    "for w in x:\n",
    "    final=obj.lemmatize(w)\n",
    "    print(final)"
   ]
  },
  {
   "cell_type": "code",
   "execution_count": null,
   "id": "96c7744c-fea5-4121-a4e3-9586ee84169a",
   "metadata": {},
   "outputs": [],
   "source": []
  },
  {
   "cell_type": "code",
   "execution_count": null,
   "id": "71a14b9d-7931-40cd-b3c3-21f35ca055eb",
   "metadata": {},
   "outputs": [],
   "source": []
  },
  {
   "cell_type": "code",
   "execution_count": null,
   "id": "cc8f8f54-0611-4eed-9f89-ffcf36c9bf5f",
   "metadata": {},
   "outputs": [],
   "source": []
  },
  {
   "cell_type": "code",
   "execution_count": null,
   "id": "2f336667-754c-4a10-8b24-950529ef8a0f",
   "metadata": {},
   "outputs": [],
   "source": []
  },
  {
   "cell_type": "code",
   "execution_count": null,
   "id": "1b169de6-a6a2-4f29-8bb3-1664be2bf33c",
   "metadata": {},
   "outputs": [],
   "source": []
  },
  {
   "cell_type": "code",
   "execution_count": null,
   "id": "6e5340be-1a80-4dd0-bf90-54b2b6f19d9a",
   "metadata": {},
   "outputs": [],
   "source": []
  }
 ],
 "metadata": {
  "kernelspec": {
   "display_name": "Python 3 (ipykernel)",
   "language": "python",
   "name": "python3"
  },
  "language_info": {
   "codemirror_mode": {
    "name": "ipython",
    "version": 3
   },
   "file_extension": ".py",
   "mimetype": "text/x-python",
   "name": "python",
   "nbconvert_exporter": "python",
   "pygments_lexer": "ipython3",
   "version": "3.11.0rc2"
  }
 },
 "nbformat": 4,
 "nbformat_minor": 5
}
